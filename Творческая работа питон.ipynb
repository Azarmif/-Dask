{
 "cells": [
  {
   "cell_type": "markdown",
   "id": "6acade3e",
   "metadata": {},
   "source": [
    "# Творческая работа Dask"
   ]
  },
  {
   "cell_type": "markdown",
   "id": "54217583",
   "metadata": {},
   "source": [
    "## 1.Dask это"
   ]
  },
  {
   "cell_type": "markdown",
   "id": "979e8c29",
   "metadata": {},
   "source": [
    "**Dask** - библиотека Python с открытым исходным кодом для параллельных вычислений, масштабирующая код с многоядерных\n",
    "локальных компьютеров до распределенных кластеров в облаке.Предоставляет пользовательский интерфейс, схожий с Pandas,\n",
    "scikit-learn и NumPy, а также низкоуровневые API для параллельного запуска алгоритмов. Создана Мэтью Роклином в декабре 2014\n",
    "года, с более чем 9,8 тыс. звезд и 500 участников на GitHub. Используется различными организациями, включая Walmart, Wayfair,\n",
    "JDA, GrubHub, General Motors, Nvidia, Harvard Medical School, Capital One и NASA."
   ]
  },
  {
   "cell_type": "markdown",
   "id": "a45dc9f2",
   "metadata": {},
   "source": [
    "## 2.Dask в Python предоставляет следующие возможности:"
   ]
  },
  {
   "cell_type": "markdown",
   "id": "b7d69f0a",
   "metadata": {},
   "source": [
    "**1. Параллельные вычисления:** Dask позволяет выполнять вычисления параллельно на многопроцессорных системах, что ускоряет выполнение задач.\n",
    "\n",
    "**2. Работа с большими данными:** Dask позволяет работать с данными, не помещающимися в оперативную память, благодаря инкрементному вычислению и ленивой загрузке данных.\n",
    "\n",
    "**3. Масштабируемость:** Dask позволяет масштабировать вычисления от одного компьютера до кластера из сотен или тысяч узлов.\n",
    "\n",
    "**4. Интеграция с экосистемой Python:** Dask хорошо интегрируется с другими библиотеками Python, такими как NumPy, Pandas, scikit-learn и другими.\n",
    "\n",
    "**5. Удобный API:** Dask предоставляет удобный API для выполнения параллельных вычислений, который похож на API других популярных библиотек.\n",
    "\n",
    "**6. Поддержка различных типов вычислений:** Dask поддерживает как высокоуровневые операции над данными (например, фильтрацию, агрегацию), так и низкоуровневые операции (например, распределенные массивы и вычисления).\n"
   ]
  },
  {
   "cell_type": "markdown",
   "id": "c78de9c6",
   "metadata": {},
   "source": [
    "## 3.Пример использования"
   ]
  },
  {
   "cell_type": "code",
   "execution_count": null,
   "id": "14834b41",
   "metadata": {},
   "outputs": [],
   "source": [
    "import dask\n",
    "# Создаем список чисел\n",
    "data = [1, 2, 3, 4, 5]\n",
    "# Импортируем функцию из Dask\n",
    "from dask import delayed\n",
    "# Применяем операцию возведения числа в квадрат к каждому элементу списка с помощью delayed\n",
    "squared_results = [delayed(pow)(x, 2) for x in data]\n",
    "# Вычисляем результаты\n",
    "results = dask.compute(*squared_results)\n",
    "print(results)\n"
   ]
  }
 ],
 "metadata": {
  "kernelspec": {
   "display_name": "Python 3 (ipykernel)",
   "language": "python",
   "name": "python3"
  },
  "language_info": {
   "codemirror_mode": {
    "name": "ipython",
    "version": 3
   },
   "file_extension": ".py",
   "mimetype": "text/x-python",
   "name": "python",
   "nbconvert_exporter": "python",
   "pygments_lexer": "ipython3",
   "version": "3.11.4"
  }
 },
 "nbformat": 4,
 "nbformat_minor": 5
}
